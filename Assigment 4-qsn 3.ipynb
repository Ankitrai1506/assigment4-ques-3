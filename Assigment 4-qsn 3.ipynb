{
 "cells": [
  {
   "cell_type": "raw",
   "id": "57de389c",
   "metadata": {},
   "source": [
    "##Write a Python program to square the elements of a list using map() function.\n",
    "\n",
    "\n",
    "\n",
    "Sample List: [4, 5, 2, 9]\n",
    "\n",
    "Square the elements of the list:\n",
    "\n",
    "[16, 25, 4, 81]"
   ]
  },
  {
   "cell_type": "code",
   "execution_count": 6,
   "id": "ad1a46fd",
   "metadata": {},
   "outputs": [
    {
     "name": "stdout",
     "output_type": "stream",
     "text": [
      "ENTER ELEMENT OF THE LIST: 2 3 4 5 6\n",
      "[4, 9, 16, 25, 36]\n"
     ]
    }
   ],
   "source": [
    "input_1=list(map(int,input(\"ENTER ELEMENT OF THE LIST: \").split()))\n",
    "print(\"input list is: \",input_1)\n",
    "\n",
    "square_1=list(map(lambda x:x*x,input_1))\n",
    "print(\"\",square_1)"
   ]
  },
  {
   "cell_type": "code",
   "execution_count": null,
   "id": "acfc150e",
   "metadata": {},
   "outputs": [],
   "source": []
  }
 ],
 "metadata": {
  "kernelspec": {
   "display_name": "Python 3 (ipykernel)",
   "language": "python",
   "name": "python3"
  },
  "language_info": {
   "codemirror_mode": {
    "name": "ipython",
    "version": 3
   },
   "file_extension": ".py",
   "mimetype": "text/x-python",
   "name": "python",
   "nbconvert_exporter": "python",
   "pygments_lexer": "ipython3",
   "version": "3.10.9"
  }
 },
 "nbformat": 4,
 "nbformat_minor": 5
}
